{
  "nbformat": 4,
  "nbformat_minor": 0,
  "metadata": {
    "kernelspec": {
      "display_name": "Python 3",
      "language": "python",
      "name": "python3"
    },
    "language_info": {
      "codemirror_mode": {
        "name": "ipython",
        "version": 3
      },
      "file_extension": ".py",
      "mimetype": "text/x-python",
      "name": "python",
      "nbconvert_exporter": "python",
      "pygments_lexer": "ipython3",
      "version": "3.6.5"
    },
    "colab": {
      "name": "Regular Expression basic to advance.ipynb",
      "provenance": [],
      "include_colab_link": true
    }
  },
  "cells": [
    {
      "cell_type": "markdown",
      "metadata": {
        "id": "view-in-github",
        "colab_type": "text"
      },
      "source": [
        "<a href=\"https://colab.research.google.com/github/noushadkhan01/regular-expressions/blob/master/Regular_Expression_basic_to_advance.ipynb\" target=\"_parent\"><img src=\"https://colab.research.google.com/assets/colab-badge.svg\" alt=\"Open In Colab\"/></a>"
      ]
    },
    {
      "cell_type": "markdown",
      "metadata": {
        "id": "WPmPhvCF774n",
        "colab_type": "text"
      },
      "source": [
        "### source:-- https://www.datacamp.com/community/tutorials/python-regular-expression-tutorial"
      ]
    },
    {
      "cell_type": "code",
      "metadata": {
        "id": "us6AsYNo774p",
        "colab_type": "code",
        "colab": {}
      },
      "source": [
        "import re"
      ],
      "execution_count": 0,
      "outputs": []
    },
    {
      "cell_type": "markdown",
      "metadata": {
        "id": "rGnsv8rb774t",
        "colab_type": "text"
      },
      "source": [
        "# Check basic pattern"
      ]
    },
    {
      "cell_type": "markdown",
      "metadata": {
        "id": "g0L0VSZs774u",
        "colab_type": "text"
      },
      "source": [
        "# re.match(pattern, sequence)"
      ]
    },
    {
      "cell_type": "code",
      "metadata": {
        "id": "ZehGLtrt774v",
        "colab_type": "code",
        "outputId": "0ce21325-a5e7-4f26-8c78-c2b44fd81989",
        "colab": {}
      },
      "source": [
        "pattern = r'[a-zA-Z]'\n",
        "sequence = 'Hello World'\n",
        "if re.match(pattern, sequence):\n",
        "    print('Mached!')\n",
        "else:\n",
        "    print('Not a match!')"
      ],
      "execution_count": 0,
      "outputs": [
        {
          "output_type": "stream",
          "text": [
            "Mached!\n"
          ],
          "name": "stdout"
        }
      ]
    },
    {
      "cell_type": "markdown",
      "metadata": {
        "id": "gVmwspW87741",
        "colab_type": "text"
      },
      "source": [
        "## eg 2"
      ]
    },
    {
      "cell_type": "code",
      "metadata": {
        "id": "kRLIYqnP7741",
        "colab_type": "code",
        "outputId": "6f11a79f-f49b-4b9e-b000-db825f3f574b",
        "colab": {}
      },
      "source": [
        "pattern = r'cookies'\n",
        "sequence = r'cookie'\n",
        "if re.match(pattern, sequence):\n",
        "    print('Match!')\n",
        "else:\n",
        "    print('Not a match!')"
      ],
      "execution_count": 0,
      "outputs": [
        {
          "output_type": "stream",
          "text": [
            "Not a match!\n"
          ],
          "name": "stdout"
        }
      ]
    },
    {
      "cell_type": "code",
      "metadata": {
        "id": "yf_FUtZk7745",
        "colab_type": "code",
        "outputId": "8cce54c8-1963-4da9-acc9-f5508612eab8",
        "colab": {}
      },
      "source": [
        "pattern = r'cookies'\n",
        "sequence = r'cookies'\n",
        "if re.match(pattern, sequence):\n",
        "    print('Match!')\n",
        "else:\n",
        "    print('Not a match!')"
      ],
      "execution_count": 0,
      "outputs": [
        {
          "output_type": "stream",
          "text": [
            "Match!\n"
          ],
          "name": "stdout"
        }
      ]
    },
    {
      "cell_type": "markdown",
      "metadata": {
        "id": "cBh61Dq67749",
        "colab_type": "text"
      },
      "source": [
        "###### ^The match function returns True if the text matches the *****complete***** pattern"
      ]
    },
    {
      "cell_type": "markdown",
      "metadata": {
        "id": "OFqCwtXT774-",
        "colab_type": "text"
      },
      "source": [
        "# special character"
      ]
    },
    {
      "cell_type": "markdown",
      "metadata": {
        "id": "oZ2nqG2K774_",
        "colab_type": "text"
      },
      "source": [
        "### The most widely used special characters are:\n",
        ". - A period. Matches every single character except newline character."
      ]
    },
    {
      "cell_type": "code",
      "metadata": {
        "id": "pGNm7ryvT63X",
        "colab_type": "code",
        "colab": {
          "base_uri": "https://localhost:8080/",
          "height": 34
        },
        "outputId": "c91b8375-3485-4837-8ce7-98732fa1d6d2"
      },
      "source": [
        "re.search('Coo.', 'Cookie').group()"
      ],
      "execution_count": 5,
      "outputs": [
        {
          "output_type": "execute_result",
          "data": {
            "text/plain": [
              "'Cook'"
            ]
          },
          "metadata": {
            "tags": []
          },
          "execution_count": 5
        }
      ]
    },
    {
      "cell_type": "code",
      "metadata": {
        "id": "a0R4U4i9774_",
        "colab_type": "code",
        "outputId": "3862bf9b-76b8-49c8-ecb7-1ec9757319d4",
        "colab": {}
      },
      "source": [
        "re.search(r'Co.k.e', 'Cookie').group()"
      ],
      "execution_count": 0,
      "outputs": [
        {
          "output_type": "execute_result",
          "data": {
            "text/plain": [
              "'Cookie'"
            ]
          },
          "metadata": {
            "tags": []
          },
          "execution_count": 6
        }
      ]
    },
    {
      "cell_type": "code",
      "metadata": {
        "id": "4GsaC9BM775D",
        "colab_type": "code",
        "outputId": "41771389-f863-492c-f260-c386e3cb2f84",
        "colab": {}
      },
      "source": [
        "re.search(r'.a.n.t', 'jannat').group()"
      ],
      "execution_count": 0,
      "outputs": [
        {
          "output_type": "execute_result",
          "data": {
            "text/plain": [
              "'jannat'"
            ]
          },
          "metadata": {
            "tags": []
          },
          "execution_count": 7
        }
      ]
    },
    {
      "cell_type": "markdown",
      "metadata": {
        "id": "x2W3U_1j775H",
        "colab_type": "text"
      },
      "source": [
        "#### ^it returns matched string"
      ]
    },
    {
      "cell_type": "markdown",
      "metadata": {
        "id": "nM5kwGt6775I",
        "colab_type": "text"
      },
      "source": [
        "### \\w:--\n",
        "Lowercase w. Matches any single letter, digit or underscore.\n",
        "    "
      ]
    },
    {
      "cell_type": "code",
      "metadata": {
        "scrolled": true,
        "id": "2x7U7sBQ775J",
        "colab_type": "code",
        "outputId": "bc34bca3-e4eb-47e1-9aba-d3ed3c87cb7c",
        "colab": {}
      },
      "source": [
        "re.search(r'j\\wn\\w\\w\\wt', 'jan_nat').group()"
      ],
      "execution_count": 0,
      "outputs": [
        {
          "output_type": "execute_result",
          "data": {
            "text/plain": [
              "'jan_nat'"
            ]
          },
          "metadata": {
            "tags": []
          },
          "execution_count": 18
        }
      ]
    },
    {
      "cell_type": "code",
      "metadata": {
        "id": "iD_s-yJj775M",
        "colab_type": "code",
        "outputId": "fe649fff-ec25-445c-983f-1c3d29ad669c",
        "colab": {}
      },
      "source": [
        "re.search(r'Co\\wk\\we', 'Cookie').group()"
      ],
      "execution_count": 0,
      "outputs": [
        {
          "output_type": "execute_result",
          "data": {
            "text/plain": [
              "'Cookie'"
            ]
          },
          "metadata": {
            "tags": []
          },
          "execution_count": 17
        }
      ]
    },
    {
      "cell_type": "markdown",
      "metadata": {
        "id": "RrNYhrU8775Q",
        "colab_type": "text"
      },
      "source": [
        "### \\W:-\n",
        "    Uppercase w. Maches any character not a part of \\w(lower w)"
      ]
    },
    {
      "cell_type": "code",
      "metadata": {
        "id": "lQViRArb775Q",
        "colab_type": "code",
        "outputId": "feb7d78c-f3dc-4604-d5f1-17c135a1e330",
        "colab": {}
      },
      "source": [
        "re.search(r'C\\Wke', 'C@ke').group()"
      ],
      "execution_count": 0,
      "outputs": [
        {
          "output_type": "execute_result",
          "data": {
            "text/plain": [
              "'C@ke'"
            ]
          },
          "metadata": {
            "tags": []
          },
          "execution_count": 19
        }
      ]
    },
    {
      "cell_type": "code",
      "metadata": {
        "id": "aswUtk7P775U",
        "colab_type": "code",
        "outputId": "319ab0f4-3e4d-466a-df4b-deaa517db9dd",
        "colab": {}
      },
      "source": [
        "re.search(r'C\\Wke', 'C@k_e').group()"
      ],
      "execution_count": 0,
      "outputs": [
        {
          "output_type": "error",
          "ename": "AttributeError",
          "evalue": "'NoneType' object has no attribute 'group'",
          "traceback": [
            "\u001b[1;31m---------------------------------------------------------------------------\u001b[0m",
            "\u001b[1;31mAttributeError\u001b[0m                            Traceback (most recent call last)",
            "\u001b[1;32m<ipython-input-25-b27b4a08cf6a>\u001b[0m in \u001b[0;36m<module>\u001b[1;34m()\u001b[0m\n\u001b[1;32m----> 1\u001b[1;33m \u001b[0mre\u001b[0m\u001b[1;33m.\u001b[0m\u001b[0msearch\u001b[0m\u001b[1;33m(\u001b[0m\u001b[1;34mr'C\\Wke'\u001b[0m\u001b[1;33m,\u001b[0m \u001b[1;34m'C@k_e'\u001b[0m\u001b[1;33m)\u001b[0m\u001b[1;33m.\u001b[0m\u001b[0mgroup\u001b[0m\u001b[1;33m(\u001b[0m\u001b[1;33m)\u001b[0m\u001b[1;33m\u001b[0m\u001b[0m\n\u001b[0m",
            "\u001b[1;31mAttributeError\u001b[0m: 'NoneType' object has no attribute 'group'"
          ]
        }
      ]
    },
    {
      "cell_type": "code",
      "metadata": {
        "id": "SXqb46Ez775a",
        "colab_type": "code",
        "colab": {}
      },
      "source": [
        "password = 'Noushadkhan@.1994'"
      ],
      "execution_count": 0,
      "outputs": []
    },
    {
      "cell_type": "code",
      "metadata": {
        "id": "eoH1xTL-775f",
        "colab_type": "code",
        "outputId": "3cffa530-2a81-41f4-e199-4bda2863e88d",
        "colab": {}
      },
      "source": [
        "if re.search(r'[0-9]', password) and re.search(r'[A-Z]', password) and re.search(r'[^a-zA-Z0-9]',password):\n",
        "    print('match')\n",
        "else:\n",
        "    print('unmached')"
      ],
      "execution_count": 0,
      "outputs": [
        {
          "output_type": "stream",
          "text": [
            "match\n"
          ],
          "name": "stdout"
        }
      ]
    },
    {
      "cell_type": "code",
      "metadata": {
        "id": "gjAqKcfd775j",
        "colab_type": "code",
        "outputId": "ff40fd77-5f73-4deb-bf32-b237ca51906d",
        "colab": {
          "base_uri": "https://localhost:8080/",
          "height": 163
        }
      },
      "source": [
        "password"
      ],
      "execution_count": 1,
      "outputs": [
        {
          "output_type": "error",
          "ename": "NameError",
          "evalue": "ignored",
          "traceback": [
            "\u001b[0;31m---------------------------------------------------------------------------\u001b[0m",
            "\u001b[0;31mNameError\u001b[0m                                 Traceback (most recent call last)",
            "\u001b[0;32m<ipython-input-1-c8fed00eb2e8>\u001b[0m in \u001b[0;36m<module>\u001b[0;34m()\u001b[0m\n\u001b[0;32m----> 1\u001b[0;31m \u001b[0mpassword\u001b[0m\u001b[0;34m\u001b[0m\u001b[0;34m\u001b[0m\u001b[0m\n\u001b[0m",
            "\u001b[0;31mNameError\u001b[0m: name 'password' is not defined"
          ]
        }
      ]
    },
    {
      "cell_type": "code",
      "metadata": {
        "id": "5j3PBUR_cQC2",
        "colab_type": "code",
        "colab": {}
      },
      "source": [
        "password2 = '123456879999999'"
      ],
      "execution_count": 0,
      "outputs": []
    },
    {
      "cell_type": "code",
      "metadata": {
        "id": "FPVx4QN0cTV3",
        "colab_type": "code",
        "colab": {}
      },
      "source": [
        "import re"
      ],
      "execution_count": 0,
      "outputs": []
    },
    {
      "cell_type": "code",
      "metadata": {
        "id": "7SvyQPCy775p",
        "colab_type": "code",
        "outputId": "3707db4a-9463-49f3-f049-53061c3ec082",
        "colab": {
          "base_uri": "https://localhost:8080/",
          "height": 34
        }
      },
      "source": [
        "if re.search(r'\\d{8,}', password2):\n",
        "    print('8')\n",
        "else:\n",
        "    print('not8')"
      ],
      "execution_count": 6,
      "outputs": [
        {
          "output_type": "stream",
          "text": [
            "8\n"
          ],
          "name": "stdout"
        }
      ]
    },
    {
      "cell_type": "code",
      "metadata": {
        "id": "LNJ9Fb1B775t",
        "colab_type": "code",
        "colab": {}
      },
      "source": [
        "alpha_numeric = 'hellow world @ 5733'"
      ],
      "execution_count": 0,
      "outputs": []
    },
    {
      "cell_type": "code",
      "metadata": {
        "id": "aBTmEnqucjG4",
        "colab_type": "code",
        "colab": {
          "base_uri": "https://localhost:8080/",
          "height": 34
        },
        "outputId": "af3a89ea-7334-47e1-c2b3-d94aa9bb1f29"
      },
      "source": [
        "if re.search(r'[a-zA-Z\\W]', alpha_numeric):\n",
        "  print('password matched')\n",
        "else:\n",
        "  print('not matched')"
      ],
      "execution_count": 13,
      "outputs": [
        {
          "output_type": "stream",
          "text": [
            "password matched\n"
          ],
          "name": "stdout"
        }
      ]
    },
    {
      "cell_type": "code",
      "metadata": {
        "id": "_NcjWCPIcsp9",
        "colab_type": "code",
        "colab": {}
      },
      "source": [
        ""
      ],
      "execution_count": 0,
      "outputs": []
    }
  ]
}