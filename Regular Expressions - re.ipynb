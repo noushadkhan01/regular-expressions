{
  "nbformat": 4,
  "nbformat_minor": 0,
  "metadata": {
    "kernelspec": {
      "display_name": "Python 3",
      "language": "python",
      "name": "python3"
    },
    "language_info": {
      "codemirror_mode": {
        "name": "ipython",
        "version": 3
      },
      "file_extension": ".py",
      "mimetype": "text/x-python",
      "name": "python",
      "nbconvert_exporter": "python",
      "pygments_lexer": "ipython3",
      "version": "3.6.2"
    },
    "colab": {
      "name": "05-Regular Expressions - re.ipynb",
      "version": "0.3.2",
      "provenance": []
    }
  },
  "cells": [
    {
      "cell_type": "markdown",
      "metadata": {
        "id": "8juH1L-ZT6bk",
        "colab_type": "text"
      },
      "source": [
        "# Regular Expressions\n",
        "\n",
        "Regular expressions are text-matching patterns described with a formal syntax. You'll often hear regular expressions referred to as 'regex' or 'regexp' in conversation. Regular expressions can include a variety of rules, from finding repetition, to text-matching, and much more. As you advance in Python you'll see that a lot of your parsing problems can be solved with regular expressions (they're also a common interview question!).\n",
        "\n",
        "\n",
        "If you're familiar with Perl, you'll notice that the syntax for regular expressions are very similar in Python. We will be using the <code>re</code> module with Python for this lecture.\n",
        "\n",
        "\n",
        "Let's get started!"
      ]
    },
    {
      "cell_type": "markdown",
      "metadata": {
        "id": "UkFoMDojT6bo",
        "colab_type": "text"
      },
      "source": [
        "## Searching for Patterns in Text\n",
        "\n",
        "One of the most common uses for the re module is for finding patterns in text. Let's do a quick example of using the search method in the re module to find some text:"
      ]
    },
    {
      "cell_type": "code",
      "metadata": {
        "id": "AvB0dbk8T6bp",
        "colab_type": "code",
        "colab": {},
        "outputId": "1cb124f3-32e5-41d2-ad6b-72ec20cd06a8"
      },
      "source": [
        "import re\n",
        "\n",
        "# List of patterns to search for\n",
        "patterns = ['term1', 'term2']\n",
        "\n",
        "# Text to parse\n",
        "text = 'This is a string with term1, but it does not have the other term.'\n",
        "\n",
        "for pattern in patterns:\n",
        "    print('Searching for \"%s\" in:\\n \"%s\"\\n' %(pattern,text))\n",
        "    \n",
        "    #Check for match\n",
        "    if re.search(pattern,text):\n",
        "        print('Match was found. \\n')\n",
        "    else:\n",
        "        print('No Match was found.\\n')"
      ],
      "execution_count": 0,
      "outputs": [
        {
          "output_type": "stream",
          "text": [
            "Searching for \"term1\" in:\n",
            " \"This is a string with term1, but it does not have the other term.\"\n",
            "\n",
            "Match was found. \n",
            "\n",
            "Searching for \"term2\" in:\n",
            " \"This is a string with term1, but it does not have the other term.\"\n",
            "\n",
            "No Match was found.\n",
            "\n"
          ],
          "name": "stdout"
        }
      ]
    },
    {
      "cell_type": "markdown",
      "metadata": {
        "id": "CzMLSnShT6bv",
        "colab_type": "text"
      },
      "source": [
        "Now we've seen that <code>re.search()</code> will take the pattern, scan the text, and then return a **Match** object. If no pattern is found, **None** is returned. To give a clearer picture of this match object, check out the cell below:"
      ]
    },
    {
      "cell_type": "code",
      "metadata": {
        "id": "FoqGtjATT6bw",
        "colab_type": "code",
        "colab": {},
        "outputId": "0290a591-10b7-4f44-fdbd-487d7f79c734"
      },
      "source": [
        "# List of patterns to search for\n",
        "pattern = 'term1'\n",
        "\n",
        "# Text to parse\n",
        "text = 'This is a string with term1, but it does not have the other term.'\n",
        "\n",
        "match = re.search(pattern,text)\n",
        "\n",
        "type(match)"
      ],
      "execution_count": 0,
      "outputs": [
        {
          "output_type": "execute_result",
          "data": {
            "text/plain": [
              "_sre.SRE_Match"
            ]
          },
          "metadata": {
            "tags": []
          },
          "execution_count": 2
        }
      ]
    },
    {
      "cell_type": "markdown",
      "metadata": {
        "id": "YCELrzJaT6b2",
        "colab_type": "text"
      },
      "source": [
        "This **Match** object returned by the search() method is more than just a Boolean or None, it contains information about the match, including the original input string, the regular expression that was used, and the location of the match. Let's see the methods we can use on the match object:"
      ]
    },
    {
      "cell_type": "code",
      "metadata": {
        "id": "4_qXRzhLT6b3",
        "colab_type": "code",
        "colab": {},
        "outputId": "0dfcecc7-cda4-40a9-e201-0f65a5a343c1"
      },
      "source": [
        "# Show start of match\n",
        "match.start()"
      ],
      "execution_count": 0,
      "outputs": [
        {
          "output_type": "execute_result",
          "data": {
            "text/plain": [
              "22"
            ]
          },
          "metadata": {
            "tags": []
          },
          "execution_count": 3
        }
      ]
    },
    {
      "cell_type": "code",
      "metadata": {
        "id": "GC8gwqMvT6b7",
        "colab_type": "code",
        "colab": {},
        "outputId": "470ec840-1e9b-4a15-a11d-52a6573211e3"
      },
      "source": [
        "# Show end\n",
        "match.end()"
      ],
      "execution_count": 0,
      "outputs": [
        {
          "output_type": "execute_result",
          "data": {
            "text/plain": [
              "27"
            ]
          },
          "metadata": {
            "tags": []
          },
          "execution_count": 4
        }
      ]
    },
    {
      "cell_type": "markdown",
      "metadata": {
        "id": "ezDf9QlfT6b-",
        "colab_type": "text"
      },
      "source": [
        "## Split with regular expressions\n",
        "\n",
        "Let's see how we can split with the re syntax. This should look similar to how you used the split() method with strings."
      ]
    },
    {
      "cell_type": "code",
      "metadata": {
        "id": "GZkeh-78T6b_",
        "colab_type": "code",
        "colab": {},
        "outputId": "d4846e34-5715-408e-e03e-e018bff8323e"
      },
      "source": [
        "# Term to split on\n",
        "split_term = '@'\n",
        "\n",
        "phrase = 'What is the domain name of someone with the email: hello@gmail.com'\n",
        "\n",
        "# Split the phrase\n",
        "re.split(split_term,phrase)"
      ],
      "execution_count": 0,
      "outputs": [
        {
          "output_type": "execute_result",
          "data": {
            "text/plain": [
              "['What is the domain name of someone with the email: hello', 'gmail.com']"
            ]
          },
          "metadata": {
            "tags": []
          },
          "execution_count": 5
        }
      ]
    },
    {
      "cell_type": "markdown",
      "metadata": {
        "id": "DsZ-fBHtT6cD",
        "colab_type": "text"
      },
      "source": [
        "Note how <code>re.split()</code> returns a list with the term to split on removed and the terms in the list are a split up version of the string. Create a couple of more examples for yourself to make sure you understand!\n",
        "\n",
        "## Finding all instances of a pattern\n",
        "\n",
        "You can use <code>re.findall()</code> to find all the instances of a pattern in a string. For example:"
      ]
    },
    {
      "cell_type": "code",
      "metadata": {
        "id": "vSSJmp8fT6cE",
        "colab_type": "code",
        "colab": {},
        "outputId": "47ec2283-3030-4a54-9cfe-511c70618f4c"
      },
      "source": [
        "# Returns a list of all matches\n",
        "re.findall('match','test phrase match is in middle')"
      ],
      "execution_count": 0,
      "outputs": [
        {
          "output_type": "execute_result",
          "data": {
            "text/plain": [
              "['match']"
            ]
          },
          "metadata": {
            "tags": []
          },
          "execution_count": 6
        }
      ]
    },
    {
      "cell_type": "markdown",
      "metadata": {
        "id": "C5T1W2WXT6cH",
        "colab_type": "text"
      },
      "source": [
        "## re Pattern Syntax\n",
        "\n",
        "This will be the bulk of this lecture on using re with Python. Regular expressions support a huge variety of patterns beyond just simply finding where a single string occurred. \n",
        "\n",
        "We can use *metacharacters* along with re to find specific types of patterns. \n",
        "\n",
        "Since we will be testing multiple re syntax forms, let's create a function that will print out results given a list of various regular expressions and a phrase to parse:"
      ]
    },
    {
      "cell_type": "code",
      "metadata": {
        "id": "jjgbhuILT6cI",
        "colab_type": "code",
        "colab": {}
      },
      "source": [
        "def multi_re_find(patterns,phrase):\n",
        "    '''\n",
        "    Takes in a list of regex patterns\n",
        "    Prints a list of all matches\n",
        "    '''\n",
        "    for pattern in patterns:\n",
        "        print('Searching the phrase using the re check: %r' %(pattern))\n",
        "        print(re.findall(pattern,phrase))\n",
        "        print('\\n')"
      ],
      "execution_count": 0,
      "outputs": []
    },
    {
      "cell_type": "markdown",
      "metadata": {
        "id": "Z_xbIO6dT6cO",
        "colab_type": "text"
      },
      "source": [
        "### Repetition Syntax\n",
        "\n",
        "There are five ways to express repetition in a pattern:\n",
        "\n",
        "   1. A pattern followed by the meta-character <code>*</code> is repeated zero or more times. \n",
        "   2. Replace the <code>*</code> with <code>+</code> and the pattern must appear at least once. \n",
        "   3. Using <code>?</code> means the pattern appears zero or one time. \n",
        "   4. For a specific number of occurrences, use <code>{m}</code> after the pattern, where **m** is replaced with the number of times the pattern should repeat. \n",
        "   5. Use <code>{m,n}</code> where **m** is the minimum number of repetitions and **n** is the maximum. Leaving out **n** <code>{m,}</code> means the value appears at least **m** times, with no maximum.\n",
        "    \n",
        "Now we will see an example of each of these using our multi_re_find function:"
      ]
    },
    {
      "cell_type": "code",
      "metadata": {
        "id": "CH-MvxURT6cP",
        "colab_type": "code",
        "colab": {},
        "outputId": "3f214c39-7fe0-493f-a784-9ff13c876663"
      },
      "source": [
        "test_phrase = 'sdsd..sssddd...sdddsddd...dsds...dsssss...sdddd'\n",
        "\n",
        "test_patterns = [ 'sd*',     # s followed by zero or more d's\n",
        "                'sd+',          # s followed by one or more d's\n",
        "                'sd?',          # s followed by zero or one d's\n",
        "                'sd{3}',        # s followed by three d's\n",
        "                'sd{2,3}',      # s followed by two to three d's\n",
        "                ]\n",
        "\n",
        "multi_re_find(test_patterns,test_phrase)"
      ],
      "execution_count": 0,
      "outputs": [
        {
          "output_type": "stream",
          "text": [
            "Searching the phrase using the re check: 'sd*'\n",
            "['sd', 'sd', 's', 's', 'sddd', 'sddd', 'sddd', 'sd', 's', 's', 's', 's', 's', 's', 'sdddd']\n",
            "\n",
            "\n",
            "Searching the phrase using the re check: 'sd+'\n",
            "['sd', 'sd', 'sddd', 'sddd', 'sddd', 'sd', 'sdddd']\n",
            "\n",
            "\n",
            "Searching the phrase using the re check: 'sd?'\n",
            "['sd', 'sd', 's', 's', 'sd', 'sd', 'sd', 'sd', 's', 's', 's', 's', 's', 's', 'sd']\n",
            "\n",
            "\n",
            "Searching the phrase using the re check: 'sd{3}'\n",
            "['sddd', 'sddd', 'sddd', 'sddd']\n",
            "\n",
            "\n",
            "Searching the phrase using the re check: 'sd{2,3}'\n",
            "['sddd', 'sddd', 'sddd', 'sddd']\n",
            "\n",
            "\n"
          ],
          "name": "stdout"
        }
      ]
    },
    {
      "cell_type": "markdown",
      "metadata": {
        "id": "DD4fEVyqT6cT",
        "colab_type": "text"
      },
      "source": [
        "## Character Sets\n",
        "\n",
        "Character sets are used when you wish to match any one of a group of characters at a point in the input. Brackets are used to construct character set inputs. For example: the input <code>[ab]</code> searches for occurrences of either **a** or **b**.\n",
        "Let's see some examples:"
      ]
    },
    {
      "cell_type": "code",
      "metadata": {
        "id": "wZ6xh2GPT6cU",
        "colab_type": "code",
        "colab": {},
        "outputId": "28a65ca3-d0d9-4c38-bb0d-506450683b0b"
      },
      "source": [
        "test_phrase = 'sdsd..sssddd...sdddsddd...dsds...dsssss...sdddd'\n",
        "\n",
        "test_patterns = ['[sd]',    # either s or d\n",
        "                's[sd]+']   # s followed by one or more s or d\n",
        "\n",
        "multi_re_find(test_patterns,test_phrase)"
      ],
      "execution_count": 0,
      "outputs": [
        {
          "output_type": "stream",
          "text": [
            "Searching the phrase using the re check: '[sd]'\n",
            "['s', 'd', 's', 'd', 's', 's', 's', 'd', 'd', 'd', 's', 'd', 'd', 'd', 's', 'd', 'd', 'd', 'd', 's', 'd', 's', 'd', 's', 's', 's', 's', 's', 's', 'd', 'd', 'd', 'd']\n",
            "\n",
            "\n",
            "Searching the phrase using the re check: 's[sd]+'\n",
            "['sdsd', 'sssddd', 'sdddsddd', 'sds', 'sssss', 'sdddd']\n",
            "\n",
            "\n"
          ],
          "name": "stdout"
        }
      ]
    },
    {
      "cell_type": "markdown",
      "metadata": {
        "id": "d0Bo7NYST6cX",
        "colab_type": "text"
      },
      "source": [
        "It makes sense that the first input <code>[sd]</code> returns every instance of s or d. Also, the second input <code>s[sd]+</code> returns any full strings that begin with an s and continue with s or d characters until another character is reached."
      ]
    },
    {
      "cell_type": "markdown",
      "metadata": {
        "id": "WaOPCI6YT6ce",
        "colab_type": "text"
      },
      "source": [
        "## Exclusion\n",
        "\n",
        "We can use <code>^</code> to exclude terms by incorporating it into the bracket syntax notation. For example: <code>[^...]</code> will match any single character not in the brackets. Let's see some examples:"
      ]
    },
    {
      "cell_type": "code",
      "metadata": {
        "id": "3OpaMZcuT6cf",
        "colab_type": "code",
        "colab": {}
      },
      "source": [
        "test_phrase = 'This is a string! But it has punctuation. How can we remove it?'"
      ],
      "execution_count": 0,
      "outputs": []
    },
    {
      "cell_type": "markdown",
      "metadata": {
        "id": "d4ChRthET6ci",
        "colab_type": "text"
      },
      "source": [
        "Use <code>[^!.? ]</code> to check for matches that are not a !,.,?, or space. Add a <code>+</code> to check that the match appears at least once. This basically translates into finding the words."
      ]
    },
    {
      "cell_type": "code",
      "metadata": {
        "id": "KRU-SdVtT6ci",
        "colab_type": "code",
        "colab": {},
        "outputId": "3f4b1aec-2798-4bd1-c90f-2b5fc17e4775"
      },
      "source": [
        "re.findall('[^!.? ]+',test_phrase)"
      ],
      "execution_count": 0,
      "outputs": [
        {
          "output_type": "execute_result",
          "data": {
            "text/plain": [
              "['This',\n",
              " 'is',\n",
              " 'a',\n",
              " 'string',\n",
              " 'But',\n",
              " 'it',\n",
              " 'has',\n",
              " 'punctuation',\n",
              " 'How',\n",
              " 'can',\n",
              " 'we',\n",
              " 'remove',\n",
              " 'it']"
            ]
          },
          "metadata": {
            "tags": []
          },
          "execution_count": 11
        }
      ]
    },
    {
      "cell_type": "markdown",
      "metadata": {
        "id": "AKRFwdOIT6cl",
        "colab_type": "text"
      },
      "source": [
        "## Character Ranges\n",
        "\n",
        "As character sets grow larger, typing every character that should (or should not) match could become very tedious. A more compact format using character ranges lets you define a character set to include all of the contiguous characters between a start and stop point. The format used is <code>[start-end]</code>.\n",
        "\n",
        "Common use cases are to search for a specific range of letters in the alphabet. For instance, <code>[a-f]</code> would return matches with any occurrence of letters between a and f. \n",
        "\n",
        "Let's walk through some examples:"
      ]
    },
    {
      "cell_type": "code",
      "metadata": {
        "id": "0jAHFelpT6cm",
        "colab_type": "code",
        "colab": {},
        "outputId": "ac004995-2372-46ac-ad0b-3c77e9105a1b"
      },
      "source": [
        "\n",
        "test_phrase = 'This is an example sentence. Lets see if we can find some letters.'\n",
        "\n",
        "test_patterns=['[a-z]+',      # sequences of lower case letters\n",
        "               '[A-Z]+',      # sequences of upper case letters\n",
        "               '[a-zA-Z]+',   # sequences of lower or upper case letters\n",
        "               '[A-Z][a-z]+'] # one upper case letter followed by lower case letters\n",
        "                \n",
        "multi_re_find(test_patterns,test_phrase)"
      ],
      "execution_count": 0,
      "outputs": [
        {
          "output_type": "stream",
          "text": [
            "Searching the phrase using the re check: '[a-z]+'\n",
            "['his', 'is', 'an', 'example', 'sentence', 'ets', 'see', 'if', 'we', 'can', 'find', 'some', 'letters']\n",
            "\n",
            "\n",
            "Searching the phrase using the re check: '[A-Z]+'\n",
            "['T', 'L']\n",
            "\n",
            "\n",
            "Searching the phrase using the re check: '[a-zA-Z]+'\n",
            "['This', 'is', 'an', 'example', 'sentence', 'Lets', 'see', 'if', 'we', 'can', 'find', 'some', 'letters']\n",
            "\n",
            "\n",
            "Searching the phrase using the re check: '[A-Z][a-z]+'\n",
            "['This', 'Lets']\n",
            "\n",
            "\n"
          ],
          "name": "stdout"
        }
      ]
    },
    {
      "cell_type": "markdown",
      "metadata": {
        "id": "-5fnv18wT6cr",
        "colab_type": "text"
      },
      "source": [
        "## Escape Codes\n",
        "\n",
        "You can use special escape codes to find specific types of patterns in your data, such as digits, non-digits, whitespace, and more. For example:\n",
        "\n",
        "<table border=\"1\" class=\"docutils\">\n",
        "<colgroup>\n",
        "<col width=\"14%\" />\n",
        "<col width=\"86%\" />\n",
        "</colgroup>\n",
        "<thead valign=\"bottom\">\n",
        "<tr class=\"row-odd\"><th class=\"head\">Code</th>\n",
        "<th class=\"head\">Meaning</th>\n",
        "</tr>\n",
        "</thead>\n",
        "<tbody valign=\"top\">\n",
        "<tr class=\"row-even\"><td><tt class=\"docutils literal\"><span class=\"pre\">\\d</span></tt></td>\n",
        "<td>a digit</td>\n",
        "</tr>\n",
        "<tr class=\"row-odd\"><td><tt class=\"docutils literal\"><span class=\"pre\">\\D</span></tt></td>\n",
        "<td>a non-digit</td>\n",
        "</tr>\n",
        "<tr class=\"row-even\"><td><tt class=\"docutils literal\"><span class=\"pre\">\\s</span></tt></td>\n",
        "<td>whitespace (tab, space, newline, etc.)</td>\n",
        "</tr>\n",
        "<tr class=\"row-odd\"><td><tt class=\"docutils literal\"><span class=\"pre\">\\S</span></tt></td>\n",
        "<td>non-whitespace</td>\n",
        "</tr>\n",
        "<tr class=\"row-even\"><td><tt class=\"docutils literal\"><span class=\"pre\">\\w</span></tt></td>\n",
        "<td>alphanumeric</td>\n",
        "</tr>\n",
        "<tr class=\"row-odd\"><td><tt class=\"docutils literal\"><span class=\"pre\">\\W</span></tt></td>\n",
        "<td>non-alphanumeric</td>\n",
        "</tr>\n",
        "</tbody>\n",
        "</table>\n",
        "\n",
        "Escapes are indicated by prefixing the character with a backslash <code>\\</code>. Unfortunately, a backslash must itself be escaped in normal Python strings, and that results in expressions that are difficult to read. Using raw strings, created by prefixing the literal value with <code>r</code>, eliminates this problem and maintains readability.\n",
        "\n",
        "Personally, I think this use of <code>r</code> to escape a backslash is probably one of the things that block someone who is not familiar with regex in Python from being able to read regex code at first. Hopefully after seeing these examples this syntax will become clear."
      ]
    },
    {
      "cell_type": "code",
      "metadata": {
        "id": "IWHAjJ2BT6cs",
        "colab_type": "code",
        "colab": {},
        "outputId": "7f4208cd-b8d6-4ef4-a4ca-094a0ede8093"
      },
      "source": [
        "test_phrase = 'This is a string with some numbers 1233 and a symbol #hashtag'\n",
        "\n",
        "test_patterns=[ r'\\d+', # sequence of digits\n",
        "                r'\\D+', # sequence of non-digits\n",
        "                r'\\s+', # sequence of whitespace\n",
        "                r'\\S+', # sequence of non-whitespace\n",
        "                r'\\w+', # alphanumeric characters\n",
        "                r'\\W+', # non-alphanumeric\n",
        "                ]\n",
        "\n",
        "multi_re_find(test_patterns,test_phrase)"
      ],
      "execution_count": 0,
      "outputs": [
        {
          "output_type": "stream",
          "text": [
            "Searching the phrase using the re check: '\\\\d+'\n",
            "['1233']\n",
            "\n",
            "\n",
            "Searching the phrase using the re check: '\\\\D+'\n",
            "['This is a string with some numbers ', ' and a symbol #hashtag']\n",
            "\n",
            "\n",
            "Searching the phrase using the re check: '\\\\s+'\n",
            "[' ', ' ', ' ', ' ', ' ', ' ', ' ', ' ', ' ', ' ', ' ']\n",
            "\n",
            "\n",
            "Searching the phrase using the re check: '\\\\S+'\n",
            "['This', 'is', 'a', 'string', 'with', 'some', 'numbers', '1233', 'and', 'a', 'symbol', '#hashtag']\n",
            "\n",
            "\n",
            "Searching the phrase using the re check: '\\\\w+'\n",
            "['This', 'is', 'a', 'string', 'with', 'some', 'numbers', '1233', 'and', 'a', 'symbol', 'hashtag']\n",
            "\n",
            "\n",
            "Searching the phrase using the re check: '\\\\W+'\n",
            "[' ', ' ', ' ', ' ', ' ', ' ', ' ', ' ', ' ', ' ', ' #']\n",
            "\n",
            "\n"
          ],
          "name": "stdout"
        }
      ]
    },
    {
      "cell_type": "markdown",
      "metadata": {
        "id": "BXITgqpYT6cw",
        "colab_type": "text"
      },
      "source": [
        "## Conclusion\n",
        "\n",
        "You should now have a solid understanding of how to use the regular expression module in Python. There are a ton of more special character instances, but it would be unreasonable to go through every single use case. Instead take a look at the full [documentation](https://docs.python.org/3/library/re.html#regular-expression-syntax) if you ever need to look up a particular pattern.\n",
        "\n",
        "You can also check out the nice summary tables at this [source](http://www.tutorialspoint.com/python/python_reg_expressions.htm).\n",
        "\n",
        "Good job!\n"
      ]
    }
  ]
}